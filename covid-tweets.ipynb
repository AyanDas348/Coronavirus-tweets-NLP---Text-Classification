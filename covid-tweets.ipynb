{
 "cells": [
  {
   "cell_type": "code",
   "execution_count": 1,
   "metadata": {
    "_cell_guid": "b1076dfc-b9ad-4769-8c92-a6c4dae69d19",
    "_uuid": "8f2839f25d086af736a60e9eeb907d3b93b6e0e5",
    "execution": {
     "iopub.execute_input": "2021-09-01T13:54:44.659671Z",
     "iopub.status.busy": "2021-09-01T13:54:44.659115Z",
     "iopub.status.idle": "2021-09-01T13:54:51.68161Z",
     "shell.execute_reply": "2021-09-01T13:54:51.679791Z",
     "shell.execute_reply.started": "2021-09-01T13:54:44.659583Z"
    }
   },
   "outputs": [],
   "source": [
    "import numpy as np \n",
    "import pandas as pd \n",
    "import tensorflow as tf\n",
    "from tensorflow.keras.utils import to_categorical\n",
    "from tensorflow.keras.preprocessing.sequence import pad_sequences\n",
    "from tensorflow.keras import layers, Sequential\n",
    "import nltk\n",
    "from nltk.tokenize import word_tokenize\n",
    "from nltk.corpus import stopwords\n",
    "from nltk.stem import WordNetLemmatizer\n",
    "import re\n",
    "import matplotlib.pyplot as plt\n",
    "import seaborn as sns\n",
    "%matplotlib inline"
   ]
  },
  {
   "cell_type": "code",
   "execution_count": 2,
   "metadata": {
    "execution": {
     "iopub.execute_input": "2021-09-01T13:54:51.684173Z",
     "iopub.status.busy": "2021-09-01T13:54:51.683765Z",
     "iopub.status.idle": "2021-09-01T13:54:52.114995Z",
     "shell.execute_reply": "2021-09-01T13:54:52.113736Z",
     "shell.execute_reply.started": "2021-09-01T13:54:51.684139Z"
    }
   },
   "outputs": [],
   "source": [
    "train = pd.read_csv('Corona_NLP_train.csv')\n",
    "\n",
    "test = pd.read_csv('Corona_NLP_test.csv')\n"
   ]
  },
  {
   "cell_type": "code",
   "execution_count": 3,
   "metadata": {
    "execution": {
     "iopub.execute_input": "2021-09-01T13:54:52.117626Z",
     "iopub.status.busy": "2021-09-01T13:54:52.117297Z",
     "iopub.status.idle": "2021-09-01T13:54:52.15054Z",
     "shell.execute_reply": "2021-09-01T13:54:52.149249Z",
     "shell.execute_reply.started": "2021-09-01T13:54:52.117587Z"
    }
   },
   "outputs": [
    {
     "data": {
      "text/html": [
       "<div>\n",
       "<style scoped>\n",
       "    .dataframe tbody tr th:only-of-type {\n",
       "        vertical-align: middle;\n",
       "    }\n",
       "\n",
       "    .dataframe tbody tr th {\n",
       "        vertical-align: top;\n",
       "    }\n",
       "\n",
       "    .dataframe thead th {\n",
       "        text-align: right;\n",
       "    }\n",
       "</style>\n",
       "<table border=\"1\" class=\"dataframe\">\n",
       "  <thead>\n",
       "    <tr style=\"text-align: right;\">\n",
       "      <th></th>\n",
       "      <th>UserName</th>\n",
       "      <th>ScreenName</th>\n",
       "      <th>Location</th>\n",
       "      <th>TweetAt</th>\n",
       "      <th>OriginalTweet</th>\n",
       "      <th>Sentiment</th>\n",
       "    </tr>\n",
       "  </thead>\n",
       "  <tbody>\n",
       "    <tr>\n",
       "      <th>0</th>\n",
       "      <td>3799</td>\n",
       "      <td>48751</td>\n",
       "      <td>London</td>\n",
       "      <td>16-03-2020</td>\n",
       "      <td>@MeNyrbie @Phil_Gahan @Chrisitv https://t.co/i...</td>\n",
       "      <td>Neutral</td>\n",
       "    </tr>\n",
       "    <tr>\n",
       "      <th>1</th>\n",
       "      <td>3800</td>\n",
       "      <td>48752</td>\n",
       "      <td>UK</td>\n",
       "      <td>16-03-2020</td>\n",
       "      <td>advice Talk to your neighbours family to excha...</td>\n",
       "      <td>Positive</td>\n",
       "    </tr>\n",
       "    <tr>\n",
       "      <th>2</th>\n",
       "      <td>3801</td>\n",
       "      <td>48753</td>\n",
       "      <td>Vagabonds</td>\n",
       "      <td>16-03-2020</td>\n",
       "      <td>Coronavirus Australia: Woolworths to give elde...</td>\n",
       "      <td>Positive</td>\n",
       "    </tr>\n",
       "    <tr>\n",
       "      <th>3</th>\n",
       "      <td>3802</td>\n",
       "      <td>48754</td>\n",
       "      <td>NaN</td>\n",
       "      <td>16-03-2020</td>\n",
       "      <td>My food stock is not the only one which is emp...</td>\n",
       "      <td>Positive</td>\n",
       "    </tr>\n",
       "    <tr>\n",
       "      <th>4</th>\n",
       "      <td>3803</td>\n",
       "      <td>48755</td>\n",
       "      <td>NaN</td>\n",
       "      <td>16-03-2020</td>\n",
       "      <td>Me, ready to go at supermarket during the #COV...</td>\n",
       "      <td>Extremely Negative</td>\n",
       "    </tr>\n",
       "  </tbody>\n",
       "</table>\n",
       "</div>"
      ],
      "text/plain": [
       "   UserName  ScreenName   Location     TweetAt  \\\n",
       "0      3799       48751     London  16-03-2020   \n",
       "1      3800       48752         UK  16-03-2020   \n",
       "2      3801       48753  Vagabonds  16-03-2020   \n",
       "3      3802       48754        NaN  16-03-2020   \n",
       "4      3803       48755        NaN  16-03-2020   \n",
       "\n",
       "                                       OriginalTweet           Sentiment  \n",
       "0  @MeNyrbie @Phil_Gahan @Chrisitv https://t.co/i...             Neutral  \n",
       "1  advice Talk to your neighbours family to excha...            Positive  \n",
       "2  Coronavirus Australia: Woolworths to give elde...            Positive  \n",
       "3  My food stock is not the only one which is emp...            Positive  \n",
       "4  Me, ready to go at supermarket during the #COV...  Extremely Negative  "
      ]
     },
     "execution_count": 3,
     "metadata": {},
     "output_type": "execute_result"
    }
   ],
   "source": [
    "train.head()"
   ]
  },
  {
   "cell_type": "code",
   "execution_count": 4,
   "metadata": {
    "execution": {
     "iopub.execute_input": "2021-09-01T13:54:52.152355Z",
     "iopub.status.busy": "2021-09-01T13:54:52.152042Z",
     "iopub.status.idle": "2021-09-01T13:54:52.168892Z",
     "shell.execute_reply": "2021-09-01T13:54:52.168039Z",
     "shell.execute_reply.started": "2021-09-01T13:54:52.152327Z"
    }
   },
   "outputs": [
    {
     "data": {
      "text/html": [
       "<div>\n",
       "<style scoped>\n",
       "    .dataframe tbody tr th:only-of-type {\n",
       "        vertical-align: middle;\n",
       "    }\n",
       "\n",
       "    .dataframe tbody tr th {\n",
       "        vertical-align: top;\n",
       "    }\n",
       "\n",
       "    .dataframe thead th {\n",
       "        text-align: right;\n",
       "    }\n",
       "</style>\n",
       "<table border=\"1\" class=\"dataframe\">\n",
       "  <thead>\n",
       "    <tr style=\"text-align: right;\">\n",
       "      <th></th>\n",
       "      <th>UserName</th>\n",
       "      <th>ScreenName</th>\n",
       "      <th>Location</th>\n",
       "      <th>TweetAt</th>\n",
       "      <th>OriginalTweet</th>\n",
       "      <th>Sentiment</th>\n",
       "    </tr>\n",
       "  </thead>\n",
       "  <tbody>\n",
       "    <tr>\n",
       "      <th>0</th>\n",
       "      <td>1</td>\n",
       "      <td>44953</td>\n",
       "      <td>NYC</td>\n",
       "      <td>02-03-2020</td>\n",
       "      <td>TRENDING: New Yorkers encounter empty supermar...</td>\n",
       "      <td>Extremely Negative</td>\n",
       "    </tr>\n",
       "    <tr>\n",
       "      <th>1</th>\n",
       "      <td>2</td>\n",
       "      <td>44954</td>\n",
       "      <td>Seattle, WA</td>\n",
       "      <td>02-03-2020</td>\n",
       "      <td>When I couldn't find hand sanitizer at Fred Me...</td>\n",
       "      <td>Positive</td>\n",
       "    </tr>\n",
       "    <tr>\n",
       "      <th>2</th>\n",
       "      <td>3</td>\n",
       "      <td>44955</td>\n",
       "      <td>NaN</td>\n",
       "      <td>02-03-2020</td>\n",
       "      <td>Find out how you can protect yourself and love...</td>\n",
       "      <td>Extremely Positive</td>\n",
       "    </tr>\n",
       "    <tr>\n",
       "      <th>3</th>\n",
       "      <td>4</td>\n",
       "      <td>44956</td>\n",
       "      <td>Chicagoland</td>\n",
       "      <td>02-03-2020</td>\n",
       "      <td>#Panic buying hits #NewYork City as anxious sh...</td>\n",
       "      <td>Negative</td>\n",
       "    </tr>\n",
       "    <tr>\n",
       "      <th>4</th>\n",
       "      <td>5</td>\n",
       "      <td>44957</td>\n",
       "      <td>Melbourne, Victoria</td>\n",
       "      <td>03-03-2020</td>\n",
       "      <td>#toiletpaper #dunnypaper #coronavirus #coronav...</td>\n",
       "      <td>Neutral</td>\n",
       "    </tr>\n",
       "  </tbody>\n",
       "</table>\n",
       "</div>"
      ],
      "text/plain": [
       "   UserName  ScreenName             Location     TweetAt  \\\n",
       "0         1       44953                  NYC  02-03-2020   \n",
       "1         2       44954          Seattle, WA  02-03-2020   \n",
       "2         3       44955                  NaN  02-03-2020   \n",
       "3         4       44956          Chicagoland  02-03-2020   \n",
       "4         5       44957  Melbourne, Victoria  03-03-2020   \n",
       "\n",
       "                                       OriginalTweet           Sentiment  \n",
       "0  TRENDING: New Yorkers encounter empty supermar...  Extremely Negative  \n",
       "1  When I couldn't find hand sanitizer at Fred Me...            Positive  \n",
       "2  Find out how you can protect yourself and love...  Extremely Positive  \n",
       "3  #Panic buying hits #NewYork City as anxious sh...            Negative  \n",
       "4  #toiletpaper #dunnypaper #coronavirus #coronav...             Neutral  "
      ]
     },
     "execution_count": 4,
     "metadata": {},
     "output_type": "execute_result"
    }
   ],
   "source": [
    "test.head()"
   ]
  },
  {
   "cell_type": "code",
   "execution_count": 5,
   "metadata": {
    "execution": {
     "iopub.execute_input": "2021-09-01T13:54:52.884583Z",
     "iopub.status.busy": "2021-09-01T13:54:52.884118Z",
     "iopub.status.idle": "2021-09-01T13:54:53.325407Z",
     "shell.execute_reply": "2021-09-01T13:54:53.323967Z",
     "shell.execute_reply.started": "2021-09-01T13:54:52.884536Z"
    }
   },
   "outputs": [
    {
     "data": {
      "text/plain": [
       "[Text(0.5, 0, 'Sentiment Distribution for Test'), Text(0, 0.5, 'Tweet Count')]"
      ]
     },
     "execution_count": 5,
     "metadata": {},
     "output_type": "execute_result"
    },
    {
     "data": {
      "image/png": "[encoded data removed]",
      "text/plain": [
       "<Figure size 1296x576 with 2 Axes>"
      ]
     },
     "metadata": {
      "needs_background": "light"
     },
     "output_type": "display_data"
    }
   ],
   "source": [
    "f, axes = plt.subplots(1,2,figsize=(18,8))\n",
    "f.suptitle(\"Sentiment Distribution\")\n",
    "axes[0] = sns.countplot(ax=axes[0], data=train, x='Sentiment', order = ['Extremely Positive', 'Positive', 'Neutral', 'Negative', 'Extremely Negative'])\n",
    "axes[0].set(xlabel='Sentiment Distribution for Train', ylabel='Tweet Count')\n",
    "axes[1] = sns.countplot(ax=axes[1], data=test, x='Sentiment', order = ['Extremely Positive', 'Positive', 'Neutral', 'Negative', 'Extremely Negative'])\n",
    "axes[1].set(xlabel='Sentiment Distribution for Test', ylabel='Tweet Count')"
   ]
  },
  {
   "cell_type": "code",
   "execution_count": 6,
   "metadata": {
    "execution": {
     "iopub.execute_input": "2021-09-01T13:54:53.327732Z",
     "iopub.status.busy": "2021-09-01T13:54:53.327269Z",
     "iopub.status.idle": "2021-09-01T13:54:54.4677Z",
     "shell.execute_reply": "2021-09-01T13:54:54.46637Z",
     "shell.execute_reply.started": "2021-09-01T13:54:53.327682Z"
    }
   },
   "outputs": [],
   "source": [
    "lemmatizer = WordNetLemmatizer()\n",
    "def preprocessing(dataset):\n",
    "    corpus = []\n",
    "    for i in range(0, len(dataset)):\n",
    "        tweet = re.sub('[^a-zA-Z]',' ', dataset['OriginalTweet'][i])\n",
    "        tweet = tweet.lower()\n",
    "        tweet = tweet.split()\n",
    "        tweet = [lemmatizer.lemmatize(word, pos='v') for word in tweet if not word in stopwords.words('english')]\n",
    "        tweet = ' '.join(tweet)\n",
    "        corpus.append(tweet)\n",
    "    \n",
    "    return corpus"
   ]
  },
  {
   "cell_type": "code",
   "execution_count": 7,
   "metadata": {
    "execution": {
     "iopub.execute_input": "2021-09-01T13:54:54.470499Z",
     "iopub.status.busy": "2021-09-01T13:54:54.470146Z",
     "iopub.status.idle": "2021-09-01T13:58:45.722861Z",
     "shell.execute_reply": "2021-09-01T13:58:45.721978Z",
     "shell.execute_reply.started": "2021-09-01T13:54:54.470467Z"
    }
   },
   "outputs": [],
   "source": [
    "train_corpus = preprocessing(train)\n",
    "test_corpus = preprocessing(test)"
   ]
  },
  {
   "cell_type": "code",
   "execution_count": 8,
   "metadata": {
    "execution": {
     "iopub.execute_input": "2021-09-01T13:58:45.724882Z",
     "iopub.status.busy": "2021-09-01T13:58:45.724453Z",
     "iopub.status.idle": "2021-09-01T13:58:45.734138Z",
     "shell.execute_reply": "2021-09-01T13:58:45.733397Z",
     "shell.execute_reply.started": "2021-09-01T13:58:45.724849Z"
    }
   },
   "outputs": [
    {
     "data": {
      "text/plain": [
       "array(['Neutral', 'Positive', 'Extremely Negative', 'Negative',\n",
       "       'Extremely Positive'], dtype=object)"
      ]
     },
     "execution_count": 8,
     "metadata": {},
     "output_type": "execute_result"
    }
   ],
   "source": [
    "train['Sentiment'].unique()"
   ]
  },
  {
   "cell_type": "code",
   "execution_count": 9,
   "metadata": {
    "execution": {
     "iopub.execute_input": "2021-09-01T13:58:45.735511Z",
     "iopub.status.busy": "2021-09-01T13:58:45.735117Z",
     "iopub.status.idle": "2021-09-01T13:58:45.830272Z",
     "shell.execute_reply": "2021-09-01T13:58:45.829135Z",
     "shell.execute_reply.started": "2021-09-01T13:58:45.735483Z"
    }
   },
   "outputs": [
    {
     "data": {
      "text/plain": [
       "array([[0., 0., 1., 0., 0.],\n",
       "       [0., 1., 0., 0., 0.],\n",
       "       [0., 1., 0., 0., 0.],\n",
       "       ...,\n",
       "       [0., 1., 0., 0., 0.],\n",
       "       [0., 0., 1., 0., 0.],\n",
       "       [0., 0., 0., 1., 0.]], dtype=float32)"
      ]
     },
     "execution_count": 9,
     "metadata": {},
     "output_type": "execute_result"
    }
   ],
   "source": [
    "map_sentiment = {'Extremely Positive':0, 'Positive':1, 'Neutral':2, 'Negative':3, 'Extremely Negative':4}\n",
    "y_train = to_categorical(train['Sentiment'].map(map_sentiment), 5)\n",
    "y_test = to_categorical(test['Sentiment'].map(map_sentiment), 5)\n",
    "y_train"
   ]
  },
  {
   "cell_type": "code",
   "execution_count": 10,
   "metadata": {
    "execution": {
     "iopub.execute_input": "2021-09-01T13:58:45.832344Z",
     "iopub.status.busy": "2021-09-01T13:58:45.831874Z",
     "iopub.status.idle": "2021-09-01T13:58:45.910415Z",
     "shell.execute_reply": "2021-09-01T13:58:45.909328Z",
     "shell.execute_reply.started": "2021-09-01T13:58:45.832298Z"
    }
   },
   "outputs": [
    {
     "name": "stdout",
     "output_type": "stream",
     "text": [
      "Maximum words in a sentence is: 50\n"
     ]
    }
   ],
   "source": [
    "maxlen = 0\n",
    "count = []\n",
    "for x in train_corpus:\n",
    "    if(len(x.split())>maxlen):\n",
    "        maxlen = len(x.split())\n",
    "        count.append(len(x.split()))\n",
    "\n",
    "print(\"Maximum words in a sentence is:\", maxlen)"
   ]
  },
  {
   "cell_type": "code",
   "execution_count": 11,
   "metadata": {
    "execution": {
     "iopub.execute_input": "2021-09-01T14:01:59.150836Z",
     "iopub.status.busy": "2021-09-01T14:01:59.15037Z",
     "iopub.status.idle": "2021-09-01T14:01:59.376892Z",
     "shell.execute_reply": "2021-09-01T14:01:59.375443Z",
     "shell.execute_reply.started": "2021-09-01T14:01:59.150799Z"
    }
   },
   "outputs": [
    {
     "data": {
      "text/plain": [
       "<AxesSubplot:ylabel='Count'>"
      ]
     },
     "execution_count": 11,
     "metadata": {},
     "output_type": "execute_result"
    },
    {
     "data": {
      "image/png": "[encoded data removed]",
      "text/plain": [
       "<Figure size 432x288 with 1 Axes>"
      ]
     },
     "metadata": {
      "needs_background": "light"
     },
     "output_type": "display_data"
    }
   ],
   "source": [
    "sns.histplot(data=count, bins=10)"
   ]
  },
  {
   "cell_type": "code",
   "execution_count": 25,
   "metadata": {
    "execution": {
     "iopub.execute_input": "2021-09-01T14:02:08.514803Z",
     "iopub.status.busy": "2021-09-01T14:02:08.514394Z",
     "iopub.status.idle": "2021-09-01T14:02:11.213222Z",
     "shell.execute_reply": "2021-09-01T14:02:11.212245Z",
     "shell.execute_reply.started": "2021-09-01T14:02:08.514771Z"
    }
   },
   "outputs": [],
   "source": [
    "sent_length = 50\n",
    "t = tf.keras.preprocessing.text.Tokenizer()\n",
    "t.fit_on_texts(train_corpus)\n",
    "vocab_size = len(t.word_index) + 1\n",
    "\n",
    "train_encoded = t.texts_to_sequences(train_corpus)\n",
    "test_encoded = t.texts_to_sequences(test_corpus)\n",
    "\n",
    "train_embedded_docs = pad_sequences(train_encoded, padding='pre', maxlen=sent_length)\n",
    "test_embedded_docs = pad_sequences(test_encoded, padding='pre', maxlen=sent_length)"
   ]
  },
  {
   "cell_type": "code",
   "execution_count": 26,
   "metadata": {
    "execution": {
     "iopub.execute_input": "2021-09-01T14:08:34.298614Z",
     "iopub.status.busy": "2021-09-01T14:08:34.297907Z",
     "iopub.status.idle": "2021-09-01T14:08:34.625589Z",
     "shell.execute_reply": "2021-09-01T14:08:34.624118Z",
     "shell.execute_reply.started": "2021-09-01T14:08:34.298553Z"
    }
   },
   "outputs": [
    {
     "name": "stdout",
     "output_type": "stream",
     "text": [
      "Model: \"sequential_5\"\n",
      "_________________________________________________________________\n",
      "Layer (type)                 Output Shape              Param #   \n",
      "=================================================================\n",
      "embedding_5 (Embedding)      (None, 50, 32)            2385120   \n",
      "_________________________________________________________________\n",
      "lstm_5 (LSTM)                (None, 100)               53200     \n",
      "_________________________________________________________________\n",
      "dense_16 (Dense)             (None, 64)                6464      \n",
      "_________________________________________________________________\n",
      "dense_17 (Dense)             (None, 5)                 325       \n",
      "=================================================================\n",
      "Total params: 2,445,109\n",
      "Trainable params: 2,445,109\n",
      "Non-trainable params: 0\n",
      "_________________________________________________________________\n",
      "None\n"
     ]
    }
   ],
   "source": [
    "\n",
    "embedding_vector_features = 32\n",
    "model = Sequential()\n",
    "model.add(layers.Embedding(vocab_size, output_dim=embedding_vector_features, input_length=sent_length, mask_zero=True))\n",
    "model.add(layers.LSTM(100))\n",
    "model.add(layers.Dense(64, activation=\"relu\"))\n",
    "model.add(layers.Dense(5, activation='softmax'))\n",
    "model.compile(loss='categorical_crossentropy', optimizer='adam', metrics=['accuracy'])\n",
    "print(model.summary())"
   ]
  },
  {
   "cell_type": "code",
   "execution_count": 27,
   "metadata": {
    "execution": {
     "iopub.execute_input": "2021-09-01T14:13:55.415263Z",
     "iopub.status.busy": "2021-09-01T14:13:55.414811Z",
     "iopub.status.idle": "2021-09-01T14:14:18.351627Z",
     "shell.execute_reply": "2021-09-01T14:14:18.349489Z",
     "shell.execute_reply.started": "2021-09-01T14:13:55.415222Z"
    },
    "scrolled": true
   },
   "outputs": [
    {
     "name": "stdout",
     "output_type": "stream",
     "text": [
      "Epoch 1/10\n",
      "644/644 [==============================] - 88s 127ms/step - loss: 1.0974 - accuracy: 0.5434 - val_loss: 0.8810 - val_accuracy: 0.6646\n",
      "Epoch 2/10\n",
      "644/644 [==============================] - 81s 125ms/step - loss: 0.6064 - accuracy: 0.7805 - val_loss: 0.8740 - val_accuracy: 0.6854\n",
      "Epoch 3/10\n",
      "644/644 [==============================] - 81s 125ms/step - loss: 0.3846 - accuracy: 0.8692 - val_loss: 1.0248 - val_accuracy: 0.6677\n",
      "Epoch 4/10\n",
      "644/644 [==============================] - 81s 125ms/step - loss: 0.2595 - accuracy: 0.9124 - val_loss: 1.1755 - val_accuracy: 0.6606\n",
      "Epoch 5/10\n",
      "644/644 [==============================] - 81s 125ms/step - loss: 0.1906 - accuracy: 0.9376 - val_loss: 1.5495 - val_accuracy: 0.6332\n",
      "Epoch 6/10\n",
      "644/644 [==============================] - 81s 126ms/step - loss: 0.1463 - accuracy: 0.9523 - val_loss: 1.4707 - val_accuracy: 0.6353\n",
      "Epoch 7/10\n",
      "644/644 [==============================] - 81s 126ms/step - loss: 0.1150 - accuracy: 0.9623 - val_loss: 1.7694 - val_accuracy: 0.6077\n",
      "Epoch 8/10\n",
      "644/644 [==============================] - 80s 125ms/step - loss: 0.0907 - accuracy: 0.9692 - val_loss: 2.0846 - val_accuracy: 0.5908\n",
      "Epoch 9/10\n",
      "644/644 [==============================] - 81s 126ms/step - loss: 0.0731 - accuracy: 0.9756 - val_loss: 2.3452 - val_accuracy: 0.5829\n",
      "Epoch 10/10\n",
      "644/644 [==============================] - 81s 125ms/step - loss: 0.0630 - accuracy: 0.9789 - val_loss: 2.3248 - val_accuracy: 0.5848\n"
     ]
    }
   ],
   "source": [
    "history = model.fit(train_embedded_docs, \n",
    "                    y_train,\n",
    "                   validation_data=(test_embedded_docs, y_test),\n",
    "                   epochs=10,\n",
    "                   batch_size=64,\n",
    "                   )"
   ]
  },
  {
   "cell_type": "code",
   "execution_count": null,
   "metadata": {},
   "outputs": [],
   "source": []
  }
 ],
 "metadata": {
  "kernelspec": {
   "display_name": "Python 3",
   "language": "python",
   "name": "python3"
  },
  "language_info": {
   "codemirror_mode": {
    "name": "ipython",
    "version": 3
   },
   "file_extension": ".py",
   "mimetype": "text/x-python",
   "name": "python",
   "nbconvert_exporter": "python",
   "pygments_lexer": "ipython3",
   "version": "3.8.8"
  }
 },
 "nbformat": 4,
 "nbformat_minor": 4
}
